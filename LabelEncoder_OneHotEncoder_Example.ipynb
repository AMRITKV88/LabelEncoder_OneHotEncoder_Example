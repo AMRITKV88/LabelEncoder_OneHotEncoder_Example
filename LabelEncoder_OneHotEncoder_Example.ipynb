{
 "metadata": {
  "language_info": {
   "codemirror_mode": {
    "name": "ipython",
    "version": 3
   },
   "file_extension": ".py",
   "mimetype": "text/x-python",
   "name": "python",
   "nbconvert_exporter": "python",
   "pygments_lexer": "ipython3",
   "version": 3
  },
  "orig_nbformat": 2,
  "kernelspec": {
   "name": "python_defaultSpec_1596958123421",
   "display_name": "Python 3.8.5 64-bit"
  }
 },
 "nbformat": 4,
 "nbformat_minor": 2,
 "cells": [
  {
   "cell_type": "code",
   "execution_count": 198,
   "metadata": {},
   "outputs": [],
   "source": [
    "import numpy as np\n",
    "import pandas as pd\n",
    "from sklearn.preprocessing import LabelEncoder, OneHotEncoder\n",
    "from sklearn.compose import ColumnTransformer\n"
   ]
  },
  {
   "cell_type": "code",
   "execution_count": 199,
   "metadata": {
    "tags": []
   },
   "outputs": [],
   "source": [
    "# Sample 2D matricx data\n",
    "x = [['Germany','Male'],['France','Female'],['Spain', 'Female'],[ 'Germany', 'Female']]\n",
    "x = np.asarray(x)"
   ]
  },
  {
   "cell_type": "code",
   "execution_count": 200,
   "metadata": {
    "tags": []
   },
   "outputs": [
    {
     "output_type": "stream",
     "name": "stdout",
     "text": "[['1' 'Male']\n ['0' 'Female']\n ['2' 'Female']\n ['1' 'Female']]\n"
    }
   ],
   "source": [
    "# LabelEncoder on first column\n",
    "labelEncoder_X_1 = LabelEncoder()\n",
    "x[:, 0] = labelEncoder_X_1.fit_transform(x[:, 0])\n",
    "print(x)"
   ]
  },
  {
   "cell_type": "code",
   "execution_count": 201,
   "metadata": {
    "tags": []
   },
   "outputs": [
    {
     "output_type": "stream",
     "name": "stdout",
     "text": "[['1' '1']\n ['0' '0']\n ['2' '0']\n ['1' '0']]\n"
    }
   ],
   "source": [
    "# LabelEncoder on second column\n",
    "x[:, 1] = labelEncoder_X_1.fit_transform(x[:, 1])\n",
    "print(x)"
   ]
  },
  {
   "cell_type": "code",
   "execution_count": 202,
   "metadata": {
    "tags": []
   },
   "outputs": [
    {
     "output_type": "stream",
     "name": "stdout",
     "text": "[['1' '1']\n ['0' '0']\n ['2' '0']\n ['1' '0']]\n"
    }
   ],
   "source": [
    "x = x.reshape(len(x),2)\n",
    "print(x)"
   ]
  },
  {
   "cell_type": "code",
   "execution_count": 203,
   "metadata": {
    "tags": []
   },
   "outputs": [
    {
     "output_type": "stream",
     "name": "stdout",
     "text": "[[0. 1. 0. 0. 1.]\n [1. 0. 0. 1. 0.]\n [0. 0. 1. 1. 0.]\n [0. 1. 0. 1. 0.]]\n"
    }
   ],
   "source": [
    "# OneHotEncoder on entire x In output - First 3 columns are country columns and last two are gender columns.\n",
    "oneHotEncoder = OneHotEncoder(sparse = False)\n",
    "x = np.asarray(oneHotEncoder.fit_transform(x))\n",
    "print(x) "
   ]
  }
 ]
}